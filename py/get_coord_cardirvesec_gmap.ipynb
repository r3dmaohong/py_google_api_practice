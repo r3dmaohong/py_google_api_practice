{
 "cells": [
  {
   "cell_type": "code",
   "execution_count": 1,
   "metadata": {
    "collapsed": true
   },
   "outputs": [],
   "source": [
    "## https://stackoverflow.com/questions/15285691/googlemaps-api-address-to-coordinates-latitude-longitude\n",
    "import urllib\n",
    "import urllib.request\n",
    "import simplejson\n",
    "import re\n",
    "\n",
    "googleGeocodeUrl = 'http://maps.googleapis.com/maps/api/geocode/json?'\n",
    "\n",
    "def get_coordinates(query, from_sensor=False):\n",
    "    query = query.encode('utf-8')\n",
    "    params = {\n",
    "        'address': query,\n",
    "        'sensor': \"true\" if from_sensor else \"false\"\n",
    "    }\n",
    "    url = googleGeocodeUrl + urllib.parse.urlencode(params)\n",
    "    json_response = urllib.request.urlopen(url)\n",
    "    response = simplejson.loads(json_response.read())\n",
    "    if response['results']:\n",
    "        location = response['results'][0]['geometry']['location']\n",
    "        latitude, longitude = location['lat'], location['lng']\n",
    "        print(query.decode('utf8'), latitude, longitude)\n",
    "    else:\n",
    "        latitude, longitude = None, None\n",
    "        print(query.decode('utf8'), \"<no results>\")\n",
    "    return latitude, longitude"
   ]
  },
  {
   "cell_type": "code",
   "execution_count": 2,
   "metadata": {
    "scrolled": true
   },
   "outputs": [
    {
     "name": "stdout",
     "output_type": "stream",
     "text": [
      "市政府 25.0375417 121.5644327\n"
     ]
    },
    {
     "data": {
      "text/plain": [
       "(25.0375417, 121.5644327)"
      ]
     },
     "execution_count": 2,
     "metadata": {},
     "output_type": "execute_result"
    }
   ],
   "source": [
    "get_coordinates(\"市政府\")"
   ]
  },
  {
   "cell_type": "code",
   "execution_count": 3,
   "metadata": {},
   "outputs": [
    {
     "name": "stdout",
     "output_type": "stream",
     "text": [
      "桃園 24.9936281 121.3009798\n"
     ]
    },
    {
     "data": {
      "text/plain": [
       "(24.9936281, 121.3009798)"
      ]
     },
     "execution_count": 3,
     "metadata": {},
     "output_type": "execute_result"
    }
   ],
   "source": [
    "get_coordinates(\"桃園\")"
   ]
  },
  {
   "cell_type": "code",
   "execution_count": 4,
   "metadata": {},
   "outputs": [
    {
     "name": "stdout",
     "output_type": "stream",
     "text": [
      "桃園 24.9936281 121.3009798\n",
      "市政府 25.0375417 121.5644327\n"
     ]
    }
   ],
   "source": [
    "lon1, lat1 = get_coordinates(\"桃園\")\n",
    "lon2, lat2 = get_coordinates(\"市政府\")"
   ]
  },
  {
   "cell_type": "code",
   "execution_count": 5,
   "metadata": {
    "collapsed": true
   },
   "outputs": [],
   "source": [
    "#https://developers.google.com/maps/documentation/distance-matrix/intro?hl=zh-tw#RequestParameters\n",
    "#https://stackoverflow.com/questions/17267807/python-google-maps-driving-time\n",
    "def drivetime(lon1, lat1, lon2, lat2):\n",
    "    orig_coord = lon1, lat1\n",
    "    dest_coord = lon2, lat2\n",
    "    url = \"http://maps.googleapis.com/maps/api/distancematrix/json?origins={0}&destinations={1}&mode=driving&language=en-EN&sensor=false\".format(re.sub(\"[() ]\", \"\", str(orig_coord)),re.sub(\"[() ]\", \"\", str(dest_coord)))\n",
    "    print(url)\n",
    "    result= simplejson.load(urllib.request.urlopen(url))\n",
    "    driving_time = result['rows'][0]['elements'][0]['duration']['value']\n",
    "    return(driving_time)"
   ]
  },
  {
   "cell_type": "code",
   "execution_count": 6,
   "metadata": {},
   "outputs": [
    {
     "name": "stdout",
     "output_type": "stream",
     "text": [
      "http://maps.googleapis.com/maps/api/distancematrix/json?origins=24.9936281,121.3009798&destinations=25.0375417,121.5644327&mode=driving&language=en-EN&sensor=false\n"
     ]
    },
    {
     "data": {
      "text/plain": [
       "2352"
      ]
     },
     "execution_count": 6,
     "metadata": {},
     "output_type": "execute_result"
    }
   ],
   "source": [
    "drivetime(lon1, lat1, lon2, lat2) #returns secs"
   ]
  },
  {
   "cell_type": "code",
   "execution_count": 7,
   "metadata": {
    "collapsed": true
   },
   "outputs": [],
   "source": [
    "from urllib.request import quote\n",
    "def drivetime_q(from_q, dest_q):\n",
    "    url = \"http://maps.googleapis.com/maps/api/distancematrix/json?origins={0}&destinations={1}&mode=driving&language=en-EN&sensor=false\".format(quote(from_q), quote(dest_q))\n",
    "    #print(url)\n",
    "    try:\n",
    "        result= simplejson.load(urllib.request.urlopen(url))\n",
    "        driving_time = result['rows'][0]['elements'][0]['duration']['value']\n",
    "        return(driving_time)\n",
    "    except KeyError:\n",
    "        return(999999999)"
   ]
  },
  {
   "cell_type": "code",
   "execution_count": 8,
   "metadata": {},
   "outputs": [
    {
     "data": {
      "text/plain": [
       "1685"
      ]
     },
     "execution_count": 8,
     "metadata": {},
     "output_type": "execute_result"
    }
   ],
   "source": [
    "drivetime_q(\"北投區\", \"松山區\")"
   ]
  },
  {
   "cell_type": "code",
   "execution_count": 9,
   "metadata": {},
   "outputs": [
    {
     "data": {
      "text/plain": [
       "999999999"
      ]
     },
     "execution_count": 9,
     "metadata": {},
     "output_type": "execute_result"
    }
   ],
   "source": [
    "drivetime_q(\"金門\", \"松山區\")"
   ]
  },
  {
   "cell_type": "code",
   "execution_count": null,
   "metadata": {},
   "outputs": [],
   "source": [
    "import os\n",
    "import pandas as pd\n",
    "os.chdir(\"..\")\n",
    "os.getcwd()"
   ]
  },
  {
   "cell_type": "code",
   "execution_count": null,
   "metadata": {},
   "outputs": [],
   "source": [
    "#ttl_places.csv\n",
    "data=pd.read_clipboard(header=None).values"
   ]
  },
  {
   "cell_type": "code",
   "execution_count": null,
   "metadata": {},
   "outputs": [],
   "source": [
    "data[1:]"
   ]
  },
  {
   "cell_type": "code",
   "execution_count": null,
   "metadata": {
    "collapsed": true
   },
   "outputs": [],
   "source": [
    "import itertools\n",
    "def expandgrid(*itrs):\n",
    "   product = list(itertools.product(*itrs))\n",
    "   return {'Var{}'.format(i+1):[x[i] for x in product] for i in range(len(itrs))}\n"
   ]
  },
  {
   "cell_type": "code",
   "execution_count": null,
   "metadata": {},
   "outputs": [],
   "source": [
    "places = expandgrid(data[1:], data[1:])"
   ]
  },
  {
   "cell_type": "code",
   "execution_count": null,
   "metadata": {},
   "outputs": [],
   "source": [
    "places = pd.DataFrame(places)"
   ]
  },
  {
   "cell_type": "code",
   "execution_count": null,
   "metadata": {},
   "outputs": [],
   "source": [
    "places = places.assign(cardrive_sec=999999999)\n",
    "places = places[places['Var1']!=places['Var2']]\n",
    "places = places.reset_index(drop=True)"
   ]
  },
  {
   "cell_type": "code",
   "execution_count": null,
   "metadata": {
    "scrolled": true
   },
   "outputs": [],
   "source": [
    "from random import randint\n",
    "import time\n",
    "\n",
    "for i in range(0, places.shape[0]+1):\n",
    "    places['cardrive_sec'][i] = drivetime(places['Var1'].str[0][i], places['Var2'].str[0][i])\n",
    "    print (round(i/places.shape[0]*100,3), \"%\", end=\"\\r\")\n",
    "    #time.sleep(randint(1, 4))"
   ]
  }
 ],
 "metadata": {
  "kernelspec": {
   "display_name": "Python 3",
   "language": "python",
   "name": "python3"
  },
  "language_info": {
   "codemirror_mode": {
    "name": "ipython",
    "version": 3
   },
   "file_extension": ".py",
   "mimetype": "text/x-python",
   "name": "python",
   "nbconvert_exporter": "python",
   "pygments_lexer": "ipython3",
   "version": "3.6.1"
  }
 },
 "nbformat": 4,
 "nbformat_minor": 2
}
